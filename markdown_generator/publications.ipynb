{
 "cells": [
  {
   "cell_type": "markdown",
   "metadata": {},
   "source": [
    "# Publications markdown generator for academicpages\n",
    "\n",
    "Takes a TSV of publications with metadata and converts them for use with [academicpages.github.io](academicpages.github.io). This is an interactive Jupyter notebook ([see more info here](http://jupyter-notebook-beginner-guide.readthedocs.io/en/latest/what_is_jupyter.html)). The core python code is also in `publications.py`. Run either from the `markdown_generator` folder after replacing `publications.tsv` with one containing your data.\n",
    "\n",
    "TODO: Make this work with BibTex and other databases of citations, rather than Stuart's non-standard TSV format and citation style.\n"
   ]
  },
  {
   "cell_type": "markdown",
   "metadata": {},
   "source": [
    "## Data format\n",
    "\n",
    "The TSV needs to have the following columns: pub_date, title, venue, excerpt, citation, site_url, and paper_url, with a header at the top. \n",
    "\n",
    "- `excerpt` and `paper_url` can be blank, but the others must have values. \n",
    "- `pub_date` must be formatted as YYYY-MM-DD.\n",
    "- `url_slug` will be the descriptive part of the .md file and the permalink URL for the page about the paper. The .md file will be `YYYY-MM-DD-[url_slug].md` and the permalink will be `https://[yourdomain]/publications/YYYY-MM-DD-[url_slug]`\n",
    "\n",
    "This is how the raw file looks (it doesn't look pretty, use a spreadsheet or other program to edit and create)."
   ]
  },
  {
   "cell_type": "code",
   "execution_count": 29,
   "metadata": {},
   "outputs": [
    {
     "name": "stdout",
     "output_type": "stream",
     "text": [
      "pub_date\ttitle\tvenue\texcerpt\tcitation\turl_slug\tpaper_url\r\n",
      "2023-07-14\tNeural Network-Based Self-tuning Kinematic Control and Dynamic Compensation for Mobile Robots\t Proceedings of 10th International Conference on Mechatronics and Control Engineering \tThis paper proposes a neural network-based self-tuning kinematic controller and dynamic compensation for tracking trajectories, which applied, e.g., in cases where mobile robots are subject to: continuous parametric changes; different trajectories and external disturbances where online gain tuning is a desirable choice. For this kind of controller, the kinematic and dynamic model was developed considering that the mobile robot is confirmed by differential platform, and the operating point is not located at the center of wheel’s axes. The artificial neural network estimates the states of the mobile robot while the gradient descent optimization algorithm adjusts the controller gains that attain the smaller position tracking error, the dynamic model is used to compensate the velocity errors in the robot. Moreover, the stability of the proposed controller is demonstrated analytically. Finally, simulation results are given considering a Turtlebot3 mobile robot, real-time experiments are implemented in the same mobile robot, where the tests are carried out to show the effectiveness of the controller in a real environment.\tRecalde, L.F., Guevara, B.S., Zea, D.J., Andaluz, V.H. (2023). Neural Network-Based Self-tuning Kinematic Control and Dynamic Compensation for Mobile Robots. In: Conte, G., Sename, O. (eds) Proceedings of 10th International Conference on Mechatronics and Control Engineering . ICMCE 2021. Lecture Notes in Mechanical Engineering. Springer, Singapore. https://doi.org/10.1007/978-981-19-1540-6_11\tpaper-title-number-1\thttps://link.springer.com/chapter/10.1007/978-981-19-1540-6_11\r\n",
      "2023-02-20\tA Comparative Study between NMPC and Baseline Feedback Controllers for UAV Trajectory Tracking\tConceptual Design, Modeling, and Control Strategies of Drones-II\tTransport, rescue, search, surveillance, and disaster relief tasks are some applications that can be developed with unmanned aerial vehicles (UAVs), where accurate trajectory tracking is a crucial property to operate in a cluttered environment or under uncertainties. However, this is challenging due to high nonlinear dynamics, system constraints, and uncertainties presented in cluttered environments. Hence, uncertainties in the form of unmodeled dynamics, aerodynamic effects, and external disturbances such as wind can produce unstable feedback control schemes, introducing significant positional tracking errors. This work presents a detailed comparative study between controllers such as nonlinear model predictive control (NMPC) and non-predictive baseline feedback controllers, with particular attention to tracking accuracy and computational efficiency. The development of the non-predictive feedback controller schemes was divided into inverse differential kinematics and inverse dynamic compensation of the aerial vehicle. The design of the two controllers uses the mathematical model of UAV and nonlinear control theory, guaranteeing a low computational cost and an asymptotically stable algorithm. The NMPC formulation was developed considering system constraints, where the simplified dynamic model was included; additionally, the boundaries in control actions and a candidate Lyapunov function guarantees the stability of the control structure. Finally, this work uses the commercial simulator DJI brand and DJI Matrice 100 UAV in real-world experiments, where the NMPC shows a reduction in tracking error, indicating the advantages of this formulation.\tGuevara, B.S.; Recalde, L.F.; Varela-Aldás, J.; Andaluz, V.H.; Gandolfo, D.C.; Toibero, J.M. A Comparative Study between NMPC and Baseline Feedback Controllers for UAV Trajectory Tracking. Drones 2023, 7, 144. https://doi.org/10.3390/drones7020144\tPaper-title-number-2\thttps://www.mdpi.com/2504-446X/7/2/144\r\n"
     ]
    }
   ],
   "source": [
    "!cat publications.tsv"
   ]
  },
  {
   "cell_type": "markdown",
   "metadata": {},
   "source": [
    "## Import pandas\n",
    "\n",
    "We are using the very handy pandas library for dataframes."
   ]
  },
  {
   "cell_type": "code",
   "execution_count": 30,
   "metadata": {},
   "outputs": [],
   "source": [
    "import pandas as pd"
   ]
  },
  {
   "cell_type": "markdown",
   "metadata": {},
   "source": [
    "## Import TSV\n",
    "\n",
    "Pandas makes this easy with the read_csv function. We are using a TSV, so we specify the separator as a tab, or `\\t`.\n",
    "\n",
    "I found it important to put this data in a tab-separated values format, because there are a lot of commas in this kind of data and comma-separated values can get messed up. However, you can modify the import statement, as pandas also has read_excel(), read_json(), and others."
   ]
  },
  {
   "cell_type": "code",
   "execution_count": 31,
   "metadata": {},
   "outputs": [
    {
     "data": {
      "text/html": [
       "<div>\n",
       "<style scoped>\n",
       "    .dataframe tbody tr th:only-of-type {\n",
       "        vertical-align: middle;\n",
       "    }\n",
       "\n",
       "    .dataframe tbody tr th {\n",
       "        vertical-align: top;\n",
       "    }\n",
       "\n",
       "    .dataframe thead th {\n",
       "        text-align: right;\n",
       "    }\n",
       "</style>\n",
       "<table border=\"1\" class=\"dataframe\">\n",
       "  <thead>\n",
       "    <tr style=\"text-align: right;\">\n",
       "      <th></th>\n",
       "      <th>pub_date</th>\n",
       "      <th>title</th>\n",
       "      <th>venue</th>\n",
       "      <th>excerpt</th>\n",
       "      <th>citation</th>\n",
       "      <th>url_slug</th>\n",
       "      <th>paper_url</th>\n",
       "    </tr>\n",
       "  </thead>\n",
       "  <tbody>\n",
       "    <tr>\n",
       "      <th>0</th>\n",
       "      <td>2023-07-14</td>\n",
       "      <td>Neural Network-Based Self-tuning Kinematic Con...</td>\n",
       "      <td>Proceedings of 10th International Conference ...</td>\n",
       "      <td>This paper proposes a neural network-based sel...</td>\n",
       "      <td>Recalde, L.F., Guevara, B.S., Zea, D.J., Andal...</td>\n",
       "      <td>paper-title-number-1</td>\n",
       "      <td>https://link.springer.com/chapter/10.1007/978-...</td>\n",
       "    </tr>\n",
       "    <tr>\n",
       "      <th>1</th>\n",
       "      <td>2023-02-20</td>\n",
       "      <td>A Comparative Study between NMPC and Baseline ...</td>\n",
       "      <td>Conceptual Design, Modeling, and Control Strat...</td>\n",
       "      <td>Transport, rescue, search, surveillance, and d...</td>\n",
       "      <td>Guevara, B.S.; Recalde, L.F.; Varela-Aldás, J....</td>\n",
       "      <td>Paper-title-number-2</td>\n",
       "      <td>https://www.mdpi.com/2504-446X/7/2/144</td>\n",
       "    </tr>\n",
       "  </tbody>\n",
       "</table>\n",
       "</div>"
      ],
      "text/plain": [
       "     pub_date                                              title  \\\n",
       "0  2023-07-14  Neural Network-Based Self-tuning Kinematic Con...   \n",
       "1  2023-02-20  A Comparative Study between NMPC and Baseline ...   \n",
       "\n",
       "                                               venue  \\\n",
       "0   Proceedings of 10th International Conference ...   \n",
       "1  Conceptual Design, Modeling, and Control Strat...   \n",
       "\n",
       "                                             excerpt  \\\n",
       "0  This paper proposes a neural network-based sel...   \n",
       "1  Transport, rescue, search, surveillance, and d...   \n",
       "\n",
       "                                            citation              url_slug  \\\n",
       "0  Recalde, L.F., Guevara, B.S., Zea, D.J., Andal...  paper-title-number-1   \n",
       "1  Guevara, B.S.; Recalde, L.F.; Varela-Aldás, J....  Paper-title-number-2   \n",
       "\n",
       "                                           paper_url  \n",
       "0  https://link.springer.com/chapter/10.1007/978-...  \n",
       "1             https://www.mdpi.com/2504-446X/7/2/144  "
      ]
     },
     "execution_count": 31,
     "metadata": {},
     "output_type": "execute_result"
    }
   ],
   "source": [
    "publications = pd.read_csv(\"publications.tsv\", sep=\"\\t\", header=0)\n",
    "publications\n"
   ]
  },
  {
   "cell_type": "markdown",
   "metadata": {},
   "source": [
    "## Escape special characters\n",
    "\n",
    "YAML is very picky about how it takes a valid string, so we are replacing single and double quotes (and ampersands) with their HTML encoded equivilents. This makes them look not so readable in raw format, but they are parsed and rendered nicely."
   ]
  },
  {
   "cell_type": "code",
   "execution_count": 32,
   "metadata": {},
   "outputs": [],
   "source": [
    "html_escape_table = {\n",
    "    \"&\": \"&amp;\",\n",
    "    '\"': \"&quot;\",\n",
    "    \"'\": \"&apos;\"\n",
    "    }\n",
    "\n",
    "def html_escape(text):\n",
    "    \"\"\"Produce entities within text.\"\"\"\n",
    "    return \"\".join(html_escape_table.get(c,c) for c in text)"
   ]
  },
  {
   "cell_type": "markdown",
   "metadata": {},
   "source": [
    "## Creating the markdown files\n",
    "\n",
    "This is where the heavy lifting is done. This loops through all the rows in the TSV dataframe, then starts to concatentate a big string (```md```) that contains the markdown for each type. It does the YAML metadata first, then does the description for the individual page."
   ]
  },
  {
   "cell_type": "code",
   "execution_count": 33,
   "metadata": {},
   "outputs": [],
   "source": [
    "import os\n",
    "for row, item in publications.iterrows():\n",
    "    \n",
    "    md_filename = str(item.pub_date) + \"-\" + item.url_slug + \".md\"\n",
    "    html_filename = str(item.pub_date) + \"-\" + item.url_slug\n",
    "    year = item.pub_date[:4]\n",
    "    \n",
    "    ## YAML variables\n",
    "    \n",
    "    md = \"---\\ntitle: \\\"\"   + item.title + '\"\\n'\n",
    "    \n",
    "    md += \"\"\"collection: publications\"\"\"\n",
    "    \n",
    "    md += \"\"\"\\npermalink: /publication/\"\"\" + html_filename\n",
    "    \n",
    "    if len(str(item.excerpt)) > 5:\n",
    "        md += \"\\nexcerpt: '\" + html_escape(item.excerpt) + \"'\"\n",
    "    \n",
    "    md += \"\\ndate: \" + str(item.pub_date) \n",
    "    \n",
    "    md += \"\\nvenue: '\" + html_escape(item.venue) + \"'\"\n",
    "    \n",
    "    if len(str(item.paper_url)) > 5:\n",
    "        md += \"\\npaperurl: '\" + item.paper_url + \"'\"\n",
    "    \n",
    "    md += \"\\ncitation: '\" + html_escape(item.citation) + \"'\"\n",
    "    \n",
    "    md += \"\\n---\"\n",
    "    \n",
    "    ## Markdown description for individual page\n",
    "        \n",
    "    if len(str(item.excerpt)) > 5:\n",
    "        md += \"\\n\" + html_escape(item.excerpt) + \"\\n\"\n",
    "    \n",
    "    if len(str(item.paper_url)) > 5:\n",
    "        md += \"\\n[Download paper here](\" + item.paper_url + \")\\n\" \n",
    "        \n",
    "    md += \"\\nRecommended citation: \" + item.citation\n",
    "    \n",
    "    md_filename = os.path.basename(md_filename)\n",
    "       \n",
    "    with open(\"../_publications/\" + md_filename, 'w') as f:\n",
    "        f.write(md)"
   ]
  },
  {
   "cell_type": "markdown",
   "metadata": {},
   "source": [
    "These files are in the publications directory, one directory below where we're working from."
   ]
  },
  {
   "cell_type": "code",
   "execution_count": 35,
   "metadata": {},
   "outputs": [
    {
     "name": "stdout",
     "output_type": "stream",
     "text": [
      "2023-02-20-Paper-title-number-2.md  2023-07-14-paper-title-number-1.md\r\n"
     ]
    }
   ],
   "source": [
    "!ls ../_publications/"
   ]
  },
  {
   "cell_type": "code",
   "execution_count": 36,
   "metadata": {},
   "outputs": [
    {
     "name": "stdout",
     "output_type": "stream",
     "text": [
      "cat: ../_publications/2009-10-01-paper-title-number-1.md: No such file or directory\r\n"
     ]
    }
   ],
   "source": [
    "!cat ../_publications/2009-10-01-paper-title-number-1.md"
   ]
  },
  {
   "cell_type": "code",
   "execution_count": null,
   "metadata": {
    "collapsed": true
   },
   "outputs": [],
   "source": []
  }
 ],
 "metadata": {
  "kernelspec": {
   "display_name": "Python 3 (ipykernel)",
   "language": "python",
   "name": "python3"
  },
  "language_info": {
   "codemirror_mode": {
    "name": "ipython",
    "version": 3
   },
   "file_extension": ".py",
   "mimetype": "text/x-python",
   "name": "python",
   "nbconvert_exporter": "python",
   "pygments_lexer": "ipython3",
   "version": "3.10.8"
  }
 },
 "nbformat": 4,
 "nbformat_minor": 1
}
