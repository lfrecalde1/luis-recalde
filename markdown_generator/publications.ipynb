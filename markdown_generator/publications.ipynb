{
 "cells": [
  {
   "cell_type": "markdown",
   "metadata": {},
   "source": [
    "# Publications markdown generator for academicpages\n",
    "\n",
    "Takes a TSV of publications with metadata and converts them for use with [academicpages.github.io](academicpages.github.io). This is an interactive Jupyter notebook ([see more info here](http://jupyter-notebook-beginner-guide.readthedocs.io/en/latest/what_is_jupyter.html)). The core python code is also in `publications.py`. Run either from the `markdown_generator` folder after replacing `publications.tsv` with one containing your data.\n",
    "\n",
    "TODO: Make this work with BibTex and other databases of citations, rather than Stuart's non-standard TSV format and citation style.\n"
   ]
  },
  {
   "cell_type": "markdown",
   "metadata": {},
   "source": [
    "## Data format\n",
    "\n",
    "The TSV needs to have the following columns: pub_date, title, venue, excerpt, citation, site_url, and paper_url, with a header at the top. \n",
    "\n",
    "- `excerpt` and `paper_url` can be blank, but the others must have values. \n",
    "- `pub_date` must be formatted as YYYY-MM-DD.\n",
    "- `url_slug` will be the descriptive part of the .md file and the permalink URL for the page about the paper. The .md file will be `YYYY-MM-DD-[url_slug].md` and the permalink will be `https://[yourdomain]/publications/YYYY-MM-DD-[url_slug]`\n",
    "\n",
    "This is how the raw file looks (it doesn't look pretty, use a spreadsheet or other program to edit and create)."
   ]
  },
  {
   "cell_type": "code",
   "execution_count": 44,
   "metadata": {},
   "outputs": [
    {
     "name": "stdout",
     "output_type": "stream",
     "text": [
      "pub_date\ttitle\tvenue\texcerpt\tcitation\turl_slug\tpaper_url\r\n",
      "2023-07-14\tNeural Network-Based Self-tuning Kinematic Control and Dynamic Compensation for Mobile Robots\t Proceedings of 10th International Conference on Mechatronics and Control Engineering \tThis paper proposes a neural network-based self-tuning kinematic controller and dynamic compensation for tracking trajectories, which applied, e.g., in cases where mobile robots are subject to: continuous parametric changes; different trajectories and external disturbances where online gain tuning is a desirable choice. For this kind of controller, the kinematic and dynamic model was developed considering that the mobile robot is confirmed by differential platform, and the operating point is not located at the center of wheel’s axes. The artificial neural network estimates the states of the mobile robot while the gradient descent optimization algorithm adjusts the controller gains that attain the smaller position tracking error, the dynamic model is used to compensate the velocity errors in the robot. Moreover, the stability of the proposed controller is demonstrated analytically. Finally, simulation results are given considering a Turtlebot3 mobile robot, real-time experiments are implemented in the same mobile robot, where the tests are carried out to show the effectiveness of the controller in a real environment.\tRecalde, L.F., Guevara, B.S., Zea, D.J., Andaluz, V.H. (2023). Neural Network-Based Self-tuning Kinematic Control and Dynamic Compensation for Mobile Robots. In: Conte, G., Sename, O. (eds) Proceedings of 10th International Conference on Mechatronics and Control Engineering . ICMCE 2021. Lecture Notes in Mechanical Engineering. Springer, Singapore. https://doi.org/10.1007/978-981-19-1540-6_11\tpaper-title-number-1\thttps://link.springer.com/chapter/10.1007/978-981-19-1540-6_11\r\n",
      "2023-02-20\tA Comparative Study between NMPC and Baseline Feedback Controllers for UAV Trajectory Tracking\tConceptual Design, Modeling, and Control Strategies of Drones-II\tTransport, rescue, search, surveillance, and disaster relief tasks are some applications that can be developed with unmanned aerial vehicles (UAVs), where accurate trajectory tracking is a crucial property to operate in a cluttered environment or under uncertainties. However, this is challenging due to high nonlinear dynamics, system constraints, and uncertainties presented in cluttered environments. Hence, uncertainties in the form of unmodeled dynamics, aerodynamic effects, and external disturbances such as wind can produce unstable feedback control schemes, introducing significant positional tracking errors. This work presents a detailed comparative study between controllers such as nonlinear model predictive control (NMPC) and non-predictive baseline feedback controllers, with particular attention to tracking accuracy and computational efficiency. The development of the non-predictive feedback controller schemes was divided into inverse differential kinematics and inverse dynamic compensation of the aerial vehicle. The design of the two controllers uses the mathematical model of UAV and nonlinear control theory, guaranteeing a low computational cost and an asymptotically stable algorithm. The NMPC formulation was developed considering system constraints, where the simplified dynamic model was included; additionally, the boundaries in control actions and a candidate Lyapunov function guarantees the stability of the control structure. Finally, this work uses the commercial simulator DJI brand and DJI Matrice 100 UAV in real-world experiments, where the NMPC shows a reduction in tracking error, indicating the advantages of this formulation.\tGuevara, B.S.; Recalde, L.F.; Varela-Aldás, J.; Andaluz, V.H.; Gandolfo, D.C.; Toibero, J.M. A Comparative Study between NMPC and Baseline Feedback Controllers for UAV Trajectory Tracking. Drones 2023, 7, 144. https://doi.org/10.3390/drones7020144\tPaper-title-number-2\thttps://www.mdpi.com/2504-446X/7/2/144\r\n",
      "2022-11-01\tConstrained Visual Servoing of Quadrotors Based on Model Predictive Control\tIFAC-PapersOnLine\tOne of the main issues of visual servoing schemes occurs when the target objects leave out the field of view (FOV) of the camera, which causes failure or poor performance of the controller. Solving this problem can be a challenge due to traditional controllers cannot include system's constraints. This work presents model predictive control (MPC) for constrained image-based visual servoing (IBVS) applied in quadrotors, considering constraints in FOV and restrictions in the control actions. To handle with image constraints the MPC considers: (1) the target objects stay only in camera's FOV and this work converts these restrictions in state constraints, (2) merge image instantaneous kinematics and the dynamic of commercial quadrotors (Mavic Pro 2) in a general mathematical model in order to satisfy the bounded control actions and image constraints. Due to commercial quadrotors allow velocities like control inputs, this work considers the reduced dynamic model in general velocities space and it was identified using Dynamic Mode Decomposition with control (DMDc) algorithm. This work uses Webots to evaluate the performance of the proposed controller. Finally the controller is compared with a classical IBVS scheme in order to verify the efficacy of the proposed controller and systematically evaluate the performance considering the system constraints.\tLuis F. Recalde, Jose Varela, Bryan S. Guevara, Victor Andaluz, Javier Gimenez, Daniel Gandolfo, Constrained Visual Servoing of Quadrotors Based on Model Predictive Control, IFAC-PapersOnLine, Volume 55, Issue 37, 2022, Pages 353-360, ISSN 2405-8963, https://doi.org/10.1016/j.ifacol.2022.11.209. (https://www.sciencedirect.com/science/article/pii/S240589632202852X)\tPaper-title-number-3\thttps://www.sciencedirect.com/science/article/pii/S240589632202852X?via%3Dihub\r\n",
      "2022-08-30\tNon Immersive Virtual Laboratory Applied to Robotics Arms \t Advances and Trends in Artificial Intelligence. Theory and Practices in Artificial Intelligence\tThis article presents a non immersive virtual laboratory to emulate the behavior of Mitsubishi Melfa RV 2SDB robotic arm, allowing students and users to acquire skills and experience related to real robot, augmenting the access and learning of robotics in Universidad de las Fuerzas Armadas (ESPE). It was developed using the mathematical model of the robotic arm, thus defining the parameters for the virtual recreation. The environment, interaction and behavior of robotic arm was developed in a graphic engine (Unity3D) to emulate learning tasks such in a robotics’s laboratory. In the virtual system, 4 inputs were development for the movement of the robot arm, further to program the robot a user interface was created where the user selects the trajectory such as point to point, line, arc or circle. Finally the hypothesis of the industrial robotic learning process is validated through the level of knowledge acquired after using the system.\tBastidas, D.A., Recalde, L.F., Constante, P.N., Andaluz, V.H., Gallegos, D.E., Varela-Aldás, J. (2022). Non Immersive Virtual Laboratory Applied to Robotics Arms. In: Fujita, H., Fournier-Viger, P., Ali, M., Wang, Y. (eds) Advances and Trends in Artificial Intelligence. Theory and Practices in Artificial Intelligence. IEA/AIE 2022. Lecture Notes in Computer Science(), vol 13343. Springer, Cham. https://doi.org/10.1007/978-3-031-08530-7_76\tPaper-title-number-4\thttps://link.springer.com/chapter/10.1007/978-3-031-08530-7_76\r\n",
      "2022-06-22\tSystem Identification and Nonlinear Model Predictive Control with Collision Avoidance Applied in Hexacopters UAVs\tRobotic Systems and Automatic Control: Mathematical Models, Technologies, Applications and Challenges)\tAccurate trajectory tracking is a critical property of unmanned aerial vehicles (UAVs) due to system nonlinearities, under-actuated properties and constraints. Specifically, the use of unmanned rotorcrafts with accuracy trajectory tracking controllers in dynamic environments has the potential to improve the fields of environment monitoring, safety, search and rescue, border surveillance, geology and mining, agriculture industry, and traffic control. Monitoring operations in dynamic environments produce significant complications with respect to accuracy and obstacles in the surrounding environment and, in many cases, it is difficult to perform even with state-of-the-art controllers. This work presents a nonlinear model predictive control (NMPC) with collision avoidance for hexacopters’ trajectory tracking in dynamic environments, as well as shows a comparative study between the accuracies of the Euler–Lagrange formulation and the dynamic mode decomposition (DMD) models in order to find the precise representation of the system dynamics. The proposed controller includes limits on the maneuverability velocities, system dynamics, obstacles and the tracking error in the optimization control problem (OCP). In order to show the good performance of this control proposal, computational simulations and real experiments were carried out using a six rotary-wind unmanned aerial vehicle (hexacopter—DJI MATRICE 600). The experimental results prove the good performance of the predictive scheme and its ability to regenerate the optimal control policy. Simulation results expand the proposed controller in simulating highly dynamic environments that showing the scalability of the controller.\tRecalde, L.F.; Guevara, B.S.; Carvajal, C.P.; Andaluz, V.H.; Varela-Aldás, J.; Gandolfo, D.C. System Identification and Nonlinear Model Predictive Control with Collision Avoidance Applied in Hexacopters UAVs. Sensors 2022, 22, 4712. https://doi.org/10.3390/s22134712\tPaper-title-number-5\thttps://www.mdpi.com/1424-8220/22/13/4712\r\n",
      "2022-07-26\tNonlinear MPC for Multiple Quadrotors in Dynamic Environments \tInternational Conference on Unmanned Aircraft Systems (ICUAS)\tAccurate trajectory tracking for multiple quadrotors is essential for safe navigation in dynamic environments. However, this can be a challenge due to high nonlinearities of the systems, environment’s obstacles and constraints in control actions. This article presents a nonlinear model predictive control (NMPC) for tracking a variety of trajectories using multiple quadrotors in a unknown environment with dynamic and static obstacles. The controller is formulated using kinematic and dynamic models of multiple commercial aerial robots (Mavic Pro 2), actuators limitations, and finally converting obstacles objects to states constraints. It was developed through CasADI, an open-source software for numerical optimization that provides a fast solution to keep each quadrotor on the desired trajectory while nonlinear constraints guarantee collision avoidance and smooth control signals. The controller is implemented in simulations to systematically evaluate the performance, considering tracking accuracy and computational time. The results of the simulations are presented to confirm that the proposed NMPC generates a smooth control values ensuring safe states for each aerial robot while following a desired trajectory in unknown environment.\t\"L. F. Recalde, B. S. Guevara, V. Andaluz, J. Varela, J. Gimenez and D. Gandolfo, \"\"Nonlinear MPC for Multiple Quadrotors in Dynamic Environments,\"\" 2022 International Conference on Unmanned Aircraft Systems (ICUAS), Dubrovnik, Croatia, 2022, pp. 1201-1209, doi: 10.1109/ICUAS54217.2022.9836150.\"\tPaper-title-number-6\thttps://ieeexplore.ieee.org/document/9836150\r\n",
      "2020-12-19\tDynamic Simulation and Kinematic Control for Autonomous Driving in Automobile Robots\tAdvances in Emerging Trends and Technologies\t Dynamic Simulation and Kinematic Control for Autonomous Driving in Automobile Robots Danny J. Zea, Bryan S. Guevara, Luis F. Recalde & Víctor H. Andaluz  Conference paper First Online: 19 December 2020 429 Accesses  3 Citations  Part of the Advances in Intelligent Systems and Computing book series (AISC,volume 1302)  Abstract This article proposes a simple simulation methodology that allows to experiment with the dynamic behavior of vehicles, which applies control laws that allow automated driving in unstructured environments, through the use of robotic application simulation software Webots, which shortens the experimentation times of autonomous driving systems, It also allows to overcome the limitations that this type of projects involves, such as, high infrastructure costs, the difficulties of validating the system, qualified personnel and the participation of various elements with different dynamic behaviors that make up a real traffic space. The use of the virtualized model of a BMW X5 vehicle and the instrumentation of multiple sensors necessary for its operation are presented. Finally, a path tracking algorithm is developed using Matlab scientific programming software, and the dynamic behavior of the vehicle is evaluated through the response curves of the robot states, these results represent the starting point for future research and the implementation of physical tests.\tZea, D.J., Guevara, B.S., Recalde, L.F., Andaluz, V.H. (2021). Dynamic Simulation and Kinematic Control for Autonomous Driving in Automobile Robots. In: Botto-Tobar, M., S. Gómez, O., Rosero Miranda, R., Díaz Cadena, A. (eds) Advances in Emerging Trends and Technologies. ICAETT 2020. Advances in Intelligent Systems and Computing, vol 1302. Springer, Cham. https://doi.org/10.1007/978-3-030-63665-4_16\tPaper-title-number-7\thttps://link.springer.com/chapter/10.1007/978-3-030-63665-4_16\r\n",
      "2021-07-30\tOptimal control and dynamic compensation of a mobile manipulator robot \t The 2nd International Conference on Distributed Sensing and Intelligent Systems\tThis work proposes a controller for tracking trajectories and the ability to keep a desired internal configuration e.g., the handling and transport of objects in industrial field with redundant robots. For this kind of controller, the kinematic and dynamic model was developed considering, the Mobile Manipulator robot is conformed by a manipulator of 4 degrees of freedom (DOF) located on a differential mobile robot and the operating point is located at end-effector. Additionally; the kinematic model is used to developed the controller as optimization problem with restrictions, it was solved using the sequential quadratic programming maintaining the point of interest on the desired trajectory with desired internal configuration. Using the dynamic model this work mitigate velocity errors generated in the system. Moreover, the stability of the proposed controller demonstrated analytically and finally simulation tests are performed using the dynamics of the Akasha mobile manipulator to validate the proposed controller.\t\"B. S. Guevara, L. F. Recalde, D. J. Zea and V. H. Andaluz, \"\"Optimal control and dynamic compensation of a mobile manipulator robot,\"\" The 2nd International Conference on Distributed Sensing and Intelligent Systems (ICDSIS 2021), Online Conference, 2021, pp. 72-84, doi: 10.1049/icp.2021.2664.\"\tPaper-title-number-8\thttps://ieeexplore.ieee.org/document/9740094\r\n",
      "2021-04-27\tThree-Dimensional Unified Motion Control of a Robotic Standing Wheelchair for Rehabilitation Purposes\t Sensors, Devices and Advanced Applications for Virtual Reality – Based Patient Rehabilitation)\tTechnological advances in recent years have shown interest in the development of robots in the medical field. The integration of robotic systems in areas of assistance and rehabilitation improves the user’s quality of life. In this context, this article presents a proposal for the unified control of a robotic standing wheelchair. Considering primary and secondary tasks as control objectives, the system performs tasks autonomously and the change of position and orientation can be performed at any time. The development of the control scheme was divided in two parts: (i) kinematic controller to solve the desired motion problem; and (ii) dynamic compensation of the standing wheelchair–human system. The design of the two controllers considers the theory of linear algebra, proposing a low computational cost and an asymptotically stable algorithm, without disturbances. The stability and robustness analysis of the system is performed by analyzing the evolution of the control errors in each sampling period. Finally, real experiments of the performance of the developed controller are performed using a built and instrumented standing wheelchair.\tOrtiz, J.S.; Palacios-Navarro, G.; Andaluz, V.H.; Recalde, L.F. Three-Dimensional Unified Motion Control of a Robotic Standing Wheelchair for Rehabilitation Purposes. Sensors 2021, 21, 3057. https://doi.org/10.3390/s21093057\tPaper-title-number-9\thttps://www.mdpi.com/1424-8220/21/9/3057\r\n",
      "2020-09-04\tOptimal Control Problem of a Differential Drive Robot \t Trends in Artificial Intelligence Theory and Applications. Artificial Intelligence Practices\tThis paper proposes an optimal control to track trajectories applied in a differential drive robot. For this control, the kinematic model of the system was developed considering the position of interest as the center of gravity of the mobile robot. Additionally, the optimization problem with restrictions developed through the Sequential Least Squares Programming method was used to keep the robot on the trajectory and to find the optimal values. Moreover, the stability of the proposed controller for tracking trajectories applying optimal controllers is demonstrated analytically; this allows to prove that the control problem has a unique solution for the desired trajectory. Finally, the results are compared with a controller based on inverse kinematics.\tRecalde, L.F., Guevara, B.S., Cuzco, G., Andaluz, V.H. (2020). Optimal Control Problem of a Differential Drive Robot. In: Fujita, H., Fournier-Viger, P., Ali, M., Sasaki, J. (eds) Trends in Artificial Intelligence Theory and Applications. Artificial Intelligence Practices. IEA/AIE 2020. Lecture Notes in Computer Science(), vol 12144. Springer, Cham. https://doi.org/10.1007/978-3-030-55789-8_7\tPaper-title-number-10 \thttps://link.springer.com/chapter/10.1007/978-3-030-55789-8_7\r\n"
     ]
    }
   ],
   "source": [
    "!cat publications.tsv"
   ]
  },
  {
   "cell_type": "markdown",
   "metadata": {},
   "source": [
    "## Import pandas\n",
    "\n",
    "We are using the very handy pandas library for dataframes."
   ]
  },
  {
   "cell_type": "code",
   "execution_count": 30,
   "metadata": {},
   "outputs": [],
   "source": [
    "import pandas as pd"
   ]
  },
  {
   "cell_type": "markdown",
   "metadata": {},
   "source": [
    "## Import TSV\n",
    "\n",
    "Pandas makes this easy with the read_csv function. We are using a TSV, so we specify the separator as a tab, or `\\t`.\n",
    "\n",
    "I found it important to put this data in a tab-separated values format, because there are a lot of commas in this kind of data and comma-separated values can get messed up. However, you can modify the import statement, as pandas also has read_excel(), read_json(), and others."
   ]
  },
  {
   "cell_type": "code",
   "execution_count": 45,
   "metadata": {},
   "outputs": [
    {
     "data": {
      "text/html": [
       "<div>\n",
       "<style scoped>\n",
       "    .dataframe tbody tr th:only-of-type {\n",
       "        vertical-align: middle;\n",
       "    }\n",
       "\n",
       "    .dataframe tbody tr th {\n",
       "        vertical-align: top;\n",
       "    }\n",
       "\n",
       "    .dataframe thead th {\n",
       "        text-align: right;\n",
       "    }\n",
       "</style>\n",
       "<table border=\"1\" class=\"dataframe\">\n",
       "  <thead>\n",
       "    <tr style=\"text-align: right;\">\n",
       "      <th></th>\n",
       "      <th>pub_date</th>\n",
       "      <th>title</th>\n",
       "      <th>venue</th>\n",
       "      <th>excerpt</th>\n",
       "      <th>citation</th>\n",
       "      <th>url_slug</th>\n",
       "      <th>paper_url</th>\n",
       "    </tr>\n",
       "  </thead>\n",
       "  <tbody>\n",
       "    <tr>\n",
       "      <th>0</th>\n",
       "      <td>2023-07-14</td>\n",
       "      <td>Neural Network-Based Self-tuning Kinematic Con...</td>\n",
       "      <td>Proceedings of 10th International Conference ...</td>\n",
       "      <td>This paper proposes a neural network-based sel...</td>\n",
       "      <td>Recalde, L.F., Guevara, B.S., Zea, D.J., Andal...</td>\n",
       "      <td>paper-title-number-1</td>\n",
       "      <td>https://link.springer.com/chapter/10.1007/978-...</td>\n",
       "    </tr>\n",
       "    <tr>\n",
       "      <th>1</th>\n",
       "      <td>2023-02-20</td>\n",
       "      <td>A Comparative Study between NMPC and Baseline ...</td>\n",
       "      <td>Conceptual Design, Modeling, and Control Strat...</td>\n",
       "      <td>Transport, rescue, search, surveillance, and d...</td>\n",
       "      <td>Guevara, B.S.; Recalde, L.F.; Varela-Aldás, J....</td>\n",
       "      <td>Paper-title-number-2</td>\n",
       "      <td>https://www.mdpi.com/2504-446X/7/2/144</td>\n",
       "    </tr>\n",
       "    <tr>\n",
       "      <th>2</th>\n",
       "      <td>2022-11-01</td>\n",
       "      <td>Constrained Visual Servoing of Quadrotors Base...</td>\n",
       "      <td>IFAC-PapersOnLine</td>\n",
       "      <td>One of the main issues of visual servoing sche...</td>\n",
       "      <td>Luis F. Recalde, Jose Varela, Bryan S. Guevara...</td>\n",
       "      <td>Paper-title-number-3</td>\n",
       "      <td>https://www.sciencedirect.com/science/article/...</td>\n",
       "    </tr>\n",
       "    <tr>\n",
       "      <th>3</th>\n",
       "      <td>2022-08-30</td>\n",
       "      <td>Non Immersive Virtual Laboratory Applied to Ro...</td>\n",
       "      <td>Advances and Trends in Artificial Intelligenc...</td>\n",
       "      <td>This article presents a non immersive virtual ...</td>\n",
       "      <td>Bastidas, D.A., Recalde, L.F., Constante, P.N....</td>\n",
       "      <td>Paper-title-number-4</td>\n",
       "      <td>https://link.springer.com/chapter/10.1007/978-...</td>\n",
       "    </tr>\n",
       "    <tr>\n",
       "      <th>4</th>\n",
       "      <td>2022-06-22</td>\n",
       "      <td>System Identification and Nonlinear Model Pred...</td>\n",
       "      <td>Robotic Systems and Automatic Control: Mathema...</td>\n",
       "      <td>Accurate trajectory tracking is a critical pro...</td>\n",
       "      <td>Recalde, L.F.; Guevara, B.S.; Carvajal, C.P.; ...</td>\n",
       "      <td>Paper-title-number-5</td>\n",
       "      <td>https://www.mdpi.com/1424-8220/22/13/4712</td>\n",
       "    </tr>\n",
       "    <tr>\n",
       "      <th>5</th>\n",
       "      <td>2022-07-26</td>\n",
       "      <td>Nonlinear MPC for Multiple Quadrotors in Dynam...</td>\n",
       "      <td>International Conference on Unmanned Aircraft ...</td>\n",
       "      <td>Accurate trajectory tracking for multiple quad...</td>\n",
       "      <td>L. F. Recalde, B. S. Guevara, V. Andaluz, J. V...</td>\n",
       "      <td>Paper-title-number-6</td>\n",
       "      <td>https://ieeexplore.ieee.org/document/9836150</td>\n",
       "    </tr>\n",
       "    <tr>\n",
       "      <th>6</th>\n",
       "      <td>2020-12-19</td>\n",
       "      <td>Dynamic Simulation and Kinematic Control for A...</td>\n",
       "      <td>Advances in Emerging Trends and Technologies</td>\n",
       "      <td>Dynamic Simulation and Kinematic Control for ...</td>\n",
       "      <td>Zea, D.J., Guevara, B.S., Recalde, L.F., Andal...</td>\n",
       "      <td>Paper-title-number-7</td>\n",
       "      <td>https://link.springer.com/chapter/10.1007/978-...</td>\n",
       "    </tr>\n",
       "    <tr>\n",
       "      <th>7</th>\n",
       "      <td>2021-07-30</td>\n",
       "      <td>Optimal control and dynamic compensation of a ...</td>\n",
       "      <td>The 2nd International Conference on Distribut...</td>\n",
       "      <td>This work proposes a controller for tracking t...</td>\n",
       "      <td>B. S. Guevara, L. F. Recalde, D. J. Zea and V....</td>\n",
       "      <td>Paper-title-number-8</td>\n",
       "      <td>https://ieeexplore.ieee.org/document/9740094</td>\n",
       "    </tr>\n",
       "    <tr>\n",
       "      <th>8</th>\n",
       "      <td>2021-04-27</td>\n",
       "      <td>Three-Dimensional Unified Motion Control of a ...</td>\n",
       "      <td>Sensors, Devices and Advanced Applications fo...</td>\n",
       "      <td>Technological advances in recent years have sh...</td>\n",
       "      <td>Ortiz, J.S.; Palacios-Navarro, G.; Andaluz, V....</td>\n",
       "      <td>Paper-title-number-9</td>\n",
       "      <td>https://www.mdpi.com/1424-8220/21/9/3057</td>\n",
       "    </tr>\n",
       "    <tr>\n",
       "      <th>9</th>\n",
       "      <td>2020-09-04</td>\n",
       "      <td>Optimal Control Problem of a Differential Driv...</td>\n",
       "      <td>Trends in Artificial Intelligence Theory and ...</td>\n",
       "      <td>This paper proposes an optimal control to trac...</td>\n",
       "      <td>Recalde, L.F., Guevara, B.S., Cuzco, G., Andal...</td>\n",
       "      <td>Paper-title-number-10</td>\n",
       "      <td>https://link.springer.com/chapter/10.1007/978-...</td>\n",
       "    </tr>\n",
       "  </tbody>\n",
       "</table>\n",
       "</div>"
      ],
      "text/plain": [
       "     pub_date                                              title  \\\n",
       "0  2023-07-14  Neural Network-Based Self-tuning Kinematic Con...   \n",
       "1  2023-02-20  A Comparative Study between NMPC and Baseline ...   \n",
       "2  2022-11-01  Constrained Visual Servoing of Quadrotors Base...   \n",
       "3  2022-08-30  Non Immersive Virtual Laboratory Applied to Ro...   \n",
       "4  2022-06-22  System Identification and Nonlinear Model Pred...   \n",
       "5  2022-07-26  Nonlinear MPC for Multiple Quadrotors in Dynam...   \n",
       "6  2020-12-19  Dynamic Simulation and Kinematic Control for A...   \n",
       "7  2021-07-30  Optimal control and dynamic compensation of a ...   \n",
       "8  2021-04-27  Three-Dimensional Unified Motion Control of a ...   \n",
       "9  2020-09-04  Optimal Control Problem of a Differential Driv...   \n",
       "\n",
       "                                               venue  \\\n",
       "0   Proceedings of 10th International Conference ...   \n",
       "1  Conceptual Design, Modeling, and Control Strat...   \n",
       "2                                  IFAC-PapersOnLine   \n",
       "3   Advances and Trends in Artificial Intelligenc...   \n",
       "4  Robotic Systems and Automatic Control: Mathema...   \n",
       "5  International Conference on Unmanned Aircraft ...   \n",
       "6       Advances in Emerging Trends and Technologies   \n",
       "7   The 2nd International Conference on Distribut...   \n",
       "8   Sensors, Devices and Advanced Applications fo...   \n",
       "9   Trends in Artificial Intelligence Theory and ...   \n",
       "\n",
       "                                             excerpt  \\\n",
       "0  This paper proposes a neural network-based sel...   \n",
       "1  Transport, rescue, search, surveillance, and d...   \n",
       "2  One of the main issues of visual servoing sche...   \n",
       "3  This article presents a non immersive virtual ...   \n",
       "4  Accurate trajectory tracking is a critical pro...   \n",
       "5  Accurate trajectory tracking for multiple quad...   \n",
       "6   Dynamic Simulation and Kinematic Control for ...   \n",
       "7  This work proposes a controller for tracking t...   \n",
       "8  Technological advances in recent years have sh...   \n",
       "9  This paper proposes an optimal control to trac...   \n",
       "\n",
       "                                            citation                url_slug  \\\n",
       "0  Recalde, L.F., Guevara, B.S., Zea, D.J., Andal...    paper-title-number-1   \n",
       "1  Guevara, B.S.; Recalde, L.F.; Varela-Aldás, J....    Paper-title-number-2   \n",
       "2  Luis F. Recalde, Jose Varela, Bryan S. Guevara...    Paper-title-number-3   \n",
       "3  Bastidas, D.A., Recalde, L.F., Constante, P.N....    Paper-title-number-4   \n",
       "4  Recalde, L.F.; Guevara, B.S.; Carvajal, C.P.; ...    Paper-title-number-5   \n",
       "5  L. F. Recalde, B. S. Guevara, V. Andaluz, J. V...    Paper-title-number-6   \n",
       "6  Zea, D.J., Guevara, B.S., Recalde, L.F., Andal...    Paper-title-number-7   \n",
       "7  B. S. Guevara, L. F. Recalde, D. J. Zea and V....    Paper-title-number-8   \n",
       "8  Ortiz, J.S.; Palacios-Navarro, G.; Andaluz, V....    Paper-title-number-9   \n",
       "9  Recalde, L.F., Guevara, B.S., Cuzco, G., Andal...  Paper-title-number-10    \n",
       "\n",
       "                                           paper_url  \n",
       "0  https://link.springer.com/chapter/10.1007/978-...  \n",
       "1             https://www.mdpi.com/2504-446X/7/2/144  \n",
       "2  https://www.sciencedirect.com/science/article/...  \n",
       "3  https://link.springer.com/chapter/10.1007/978-...  \n",
       "4          https://www.mdpi.com/1424-8220/22/13/4712  \n",
       "5       https://ieeexplore.ieee.org/document/9836150  \n",
       "6  https://link.springer.com/chapter/10.1007/978-...  \n",
       "7       https://ieeexplore.ieee.org/document/9740094  \n",
       "8           https://www.mdpi.com/1424-8220/21/9/3057  \n",
       "9  https://link.springer.com/chapter/10.1007/978-...  "
      ]
     },
     "execution_count": 45,
     "metadata": {},
     "output_type": "execute_result"
    }
   ],
   "source": [
    "publications = pd.read_csv(\"publications.tsv\", sep=\"\\t\", header=0)\n",
    "publications\n"
   ]
  },
  {
   "cell_type": "markdown",
   "metadata": {},
   "source": [
    "## Escape special characters\n",
    "\n",
    "YAML is very picky about how it takes a valid string, so we are replacing single and double quotes (and ampersands) with their HTML encoded equivilents. This makes them look not so readable in raw format, but they are parsed and rendered nicely."
   ]
  },
  {
   "cell_type": "code",
   "execution_count": 46,
   "metadata": {},
   "outputs": [],
   "source": [
    "html_escape_table = {\n",
    "    \"&\": \"&amp;\",\n",
    "    '\"': \"&quot;\",\n",
    "    \"'\": \"&apos;\"\n",
    "    }\n",
    "\n",
    "def html_escape(text):\n",
    "    \"\"\"Produce entities within text.\"\"\"\n",
    "    return \"\".join(html_escape_table.get(c,c) for c in text)"
   ]
  },
  {
   "cell_type": "markdown",
   "metadata": {},
   "source": [
    "## Creating the markdown files\n",
    "\n",
    "This is where the heavy lifting is done. This loops through all the rows in the TSV dataframe, then starts to concatentate a big string (```md```) that contains the markdown for each type. It does the YAML metadata first, then does the description for the individual page."
   ]
  },
  {
   "cell_type": "code",
   "execution_count": 47,
   "metadata": {},
   "outputs": [],
   "source": [
    "import os\n",
    "for row, item in publications.iterrows():\n",
    "    \n",
    "    md_filename = str(item.pub_date) + \"-\" + item.url_slug + \".md\"\n",
    "    html_filename = str(item.pub_date) + \"-\" + item.url_slug\n",
    "    year = item.pub_date[:4]\n",
    "    \n",
    "    ## YAML variables\n",
    "    \n",
    "    md = \"---\\ntitle: \\\"\"   + item.title + '\"\\n'\n",
    "    \n",
    "    md += \"\"\"collection: publications\"\"\"\n",
    "    \n",
    "    md += \"\"\"\\npermalink: /publication/\"\"\" + html_filename\n",
    "    \n",
    "    if len(str(item.excerpt)) > 5:\n",
    "        md += \"\\nexcerpt: '\" + html_escape(item.excerpt) + \"'\"\n",
    "    \n",
    "    md += \"\\ndate: \" + str(item.pub_date) \n",
    "    \n",
    "    md += \"\\nvenue: '\" + html_escape(item.venue) + \"'\"\n",
    "    \n",
    "    if len(str(item.paper_url)) > 5:\n",
    "        md += \"\\npaperurl: '\" + item.paper_url + \"'\"\n",
    "    \n",
    "    md += \"\\ncitation: '\" + html_escape(item.citation) + \"'\"\n",
    "    \n",
    "    md += \"\\n---\"\n",
    "    \n",
    "    ## Markdown description for individual page\n",
    "        \n",
    "    if len(str(item.excerpt)) > 5:\n",
    "        md += \"\\n\" + html_escape(item.excerpt) + \"\\n\"\n",
    "    \n",
    "    if len(str(item.paper_url)) > 5:\n",
    "        md += \"\\n[Download paper here](\" + item.paper_url + \")\\n\" \n",
    "        \n",
    "    md += \"\\nRecommended citation: \" + item.citation\n",
    "    \n",
    "    md_filename = os.path.basename(md_filename)\n",
    "       \n",
    "    with open(\"../_publications/\" + md_filename, 'w') as f:\n",
    "        f.write(md)"
   ]
  },
  {
   "cell_type": "markdown",
   "metadata": {},
   "source": [
    "These files are in the publications directory, one directory below where we're working from."
   ]
  },
  {
   "cell_type": "code",
   "execution_count": 43,
   "metadata": {},
   "outputs": [
    {
     "name": "stdout",
     "output_type": "stream",
     "text": [
      "2022-11-01-Paper-title-number-3.md  2023-07-14-paper-title-number-1.md\r\n",
      "2023-02-20-Paper-title-number-2.md\r\n"
     ]
    }
   ],
   "source": [
    "!ls ../_publications/"
   ]
  },
  {
   "cell_type": "code",
   "execution_count": 48,
   "metadata": {},
   "outputs": [
    {
     "name": "stdout",
     "output_type": "stream",
     "text": [
      "---\r\n",
      "title: \"A Comparative Study between NMPC and Baseline Feedback Controllers for UAV Trajectory Tracking\"\r\n",
      "collection: publications\r\n",
      "permalink: /publication/2023-02-20-Paper-title-number-2\r\n",
      "excerpt: 'Transport, rescue, search, surveillance, and disaster relief tasks are some applications that can be developed with unmanned aerial vehicles (UAVs), where accurate trajectory tracking is a crucial property to operate in a cluttered environment or under uncertainties. However, this is challenging due to high nonlinear dynamics, system constraints, and uncertainties presented in cluttered environments. Hence, uncertainties in the form of unmodeled dynamics, aerodynamic effects, and external disturbances such as wind can produce unstable feedback control schemes, introducing significant positional tracking errors. This work presents a detailed comparative study between controllers such as nonlinear model predictive control (NMPC) and non-predictive baseline feedback controllers, with particular attention to tracking accuracy and computational efficiency. The development of the non-predictive feedback controller schemes was divided into inverse differential kinematics and inverse dynamic compensation of the aerial vehicle. The design of the two controllers uses the mathematical model of UAV and nonlinear control theory, guaranteeing a low computational cost and an asymptotically stable algorithm. The NMPC formulation was developed considering system constraints, where the simplified dynamic model was included; additionally, the boundaries in control actions and a candidate Lyapunov function guarantees the stability of the control structure. Finally, this work uses the commercial simulator DJI brand and DJI Matrice 100 UAV in real-world experiments, where the NMPC shows a reduction in tracking error, indicating the advantages of this formulation.'\r\n",
      "date: 2023-02-20\r\n",
      "venue: 'Conceptual Design, Modeling, and Control Strategies of Drones-II'\r\n",
      "paperurl: 'https://www.mdpi.com/2504-446X/7/2/144'\r\n",
      "citation: 'Guevara, B.S.; Recalde, L.F.; Varela-Aldás, J.; Andaluz, V.H.; Gandolfo, D.C.; Toibero, J.M. A Comparative Study between NMPC and Baseline Feedback Controllers for UAV Trajectory Tracking. Drones 2023, 7, 144. https://doi.org/10.3390/drones7020144'\r\n",
      "---\r\n",
      "Transport, rescue, search, surveillance, and disaster relief tasks are some applications that can be developed with unmanned aerial vehicles (UAVs), where accurate trajectory tracking is a crucial property to operate in a cluttered environment or under uncertainties. However, this is challenging due to high nonlinear dynamics, system constraints, and uncertainties presented in cluttered environments. Hence, uncertainties in the form of unmodeled dynamics, aerodynamic effects, and external disturbances such as wind can produce unstable feedback control schemes, introducing significant positional tracking errors. This work presents a detailed comparative study between controllers such as nonlinear model predictive control (NMPC) and non-predictive baseline feedback controllers, with particular attention to tracking accuracy and computational efficiency. The development of the non-predictive feedback controller schemes was divided into inverse differential kinematics and inverse dynamic compensation of the aerial vehicle. The design of the two controllers uses the mathematical model of UAV and nonlinear control theory, guaranteeing a low computational cost and an asymptotically stable algorithm. The NMPC formulation was developed considering system constraints, where the simplified dynamic model was included; additionally, the boundaries in control actions and a candidate Lyapunov function guarantees the stability of the control structure. Finally, this work uses the commercial simulator DJI brand and DJI Matrice 100 UAV in real-world experiments, where the NMPC shows a reduction in tracking error, indicating the advantages of this formulation.\r\n",
      "\r\n",
      "[Download paper here](https://www.mdpi.com/2504-446X/7/2/144)\r\n",
      "\r\n",
      "Recommended citation: Guevara, B.S.; Recalde, L.F.; Varela-Aldás, J.; Andaluz, V.H.; Gandolfo, D.C.; Toibero, J.M. A Comparative Study between NMPC and Baseline Feedback Controllers for UAV Trajectory Tracking. Drones 2023, 7, 144. https://doi.org/10.3390/drones7020144"
     ]
    }
   ],
   "source": [
    "!cat ../_publications/2023-02-20-Paper-title-number-2.md"
   ]
  },
  {
   "cell_type": "code",
   "execution_count": null,
   "metadata": {
    "collapsed": true
   },
   "outputs": [],
   "source": []
  }
 ],
 "metadata": {
  "kernelspec": {
   "display_name": "Python 3 (ipykernel)",
   "language": "python",
   "name": "python3"
  },
  "language_info": {
   "codemirror_mode": {
    "name": "ipython",
    "version": 3
   },
   "file_extension": ".py",
   "mimetype": "text/x-python",
   "name": "python",
   "nbconvert_exporter": "python",
   "pygments_lexer": "ipython3",
   "version": "3.10.8"
  }
 },
 "nbformat": 4,
 "nbformat_minor": 1
}
